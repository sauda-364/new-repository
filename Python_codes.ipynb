{
 "cells": [
  {
   "cell_type": "code",
   "execution_count": 18,
   "id": "48b42f08-3510-4b90-bfe9-37b4609c9e92",
   "metadata": {},
   "outputs": [
    {
     "name": "stdout",
     "output_type": "stream",
     "text": [
      "Hello\n",
      "World\n"
     ]
    }
   ],
   "source": [
    "print(\"Hello\\nWorld\")"
   ]
  },
  {
   "cell_type": "code",
   "execution_count": 20,
   "id": "a8d9e314-9c52-4dd6-92e3-982e4b959586",
   "metadata": {},
   "outputs": [
    {
     "data": {
      "text/plain": [
       "int"
      ]
     },
     "execution_count": 20,
     "metadata": {},
     "output_type": "execute_result"
    }
   ],
   "source": [
    "type (11)"
   ]
  },
  {
   "cell_type": "code",
   "execution_count": 21,
   "id": "d411bcd3-23d6-42da-9d05-88fd44f5709f",
   "metadata": {},
   "outputs": [
    {
     "data": {
      "text/plain": [
       "float"
      ]
     },
     "execution_count": 21,
     "metadata": {},
     "output_type": "execute_result"
    }
   ],
   "source": [
    "type(21.1)"
   ]
  },
  {
   "cell_type": "code",
   "execution_count": 22,
   "id": "70577c36-cdb5-4d1e-bc3d-470f06a836eb",
   "metadata": {},
   "outputs": [
    {
     "data": {
      "text/plain": [
       "str"
      ]
     },
     "execution_count": 22,
     "metadata": {},
     "output_type": "execute_result"
    }
   ],
   "source": [
    "type(\"hello\")"
   ]
  },
  {
   "cell_type": "code",
   "execution_count": 23,
   "id": "54dc530d-9d6b-4c2c-bb6a-03d4b59af287",
   "metadata": {},
   "outputs": [
    {
     "data": {
      "text/plain": [
       "bool"
      ]
     },
     "execution_count": 23,
     "metadata": {},
     "output_type": "execute_result"
    }
   ],
   "source": [
    "type(True)"
   ]
  },
  {
   "cell_type": "code",
   "execution_count": 24,
   "id": "df64333a-8865-47db-978d-e3f25a0df6d2",
   "metadata": {},
   "outputs": [
    {
     "data": {
      "text/plain": [
       "bool"
      ]
     },
     "execution_count": 24,
     "metadata": {},
     "output_type": "execute_result"
    }
   ],
   "source": [
    "type(False)"
   ]
  },
  {
   "cell_type": "code",
   "execution_count": 25,
   "id": "a3b8f9ad-2691-4622-9896-a8bdc73eff2a",
   "metadata": {},
   "outputs": [
    {
     "data": {
      "text/plain": [
       "2.0"
      ]
     },
     "execution_count": 25,
     "metadata": {},
     "output_type": "execute_result"
    }
   ],
   "source": [
    "float(2)"
   ]
  },
  {
   "cell_type": "code",
   "execution_count": 27,
   "id": "8eea8187-0002-42e5-82f2-0407343d1656",
   "metadata": {},
   "outputs": [
    {
     "data": {
      "text/plain": [
       "23"
      ]
     },
     "execution_count": 27,
     "metadata": {},
     "output_type": "execute_result"
    }
   ],
   "source": [
    "int(23.675)"
   ]
  },
  {
   "cell_type": "code",
   "execution_count": 30,
   "id": "ae0c9bf8-4ea1-4620-b1b1-565f6cb9c534",
   "metadata": {},
   "outputs": [
    {
     "name": "stdout",
     "output_type": "stream",
     "text": [
      "I am 25years old.\n"
     ]
    }
   ],
   "source": [
    "age = 25\n",
    "print(\"I am \" + str (age) + \"years old.\")"
   ]
  },
  {
   "cell_type": "code",
   "execution_count": 31,
   "id": "d5f75146-1844-498e-b357-043d10ce7096",
   "metadata": {},
   "outputs": [
    {
     "name": "stdout",
     "output_type": "stream",
     "text": [
      "I am 25 years old.\n"
     ]
    }
   ],
   "source": [
    "age = 25\n",
    "print(f\"I am {age} years old.\")"
   ]
  },
  {
   "cell_type": "code",
   "execution_count": 32,
   "id": "ea34f815-c70d-4a8d-9145-b56dc27d7733",
   "metadata": {},
   "outputs": [
    {
     "data": {
      "text/plain": [
       "1"
      ]
     },
     "execution_count": 32,
     "metadata": {},
     "output_type": "execute_result"
    }
   ],
   "source": [
    "int(True)"
   ]
  },
  {
   "cell_type": "code",
   "execution_count": 35,
   "id": "dc652aac-30a4-4081-b360-93ec8183d6f7",
   "metadata": {},
   "outputs": [
    {
     "data": {
      "text/plain": [
       "0"
      ]
     },
     "execution_count": 35,
     "metadata": {},
     "output_type": "execute_result"
    }
   ],
   "source": [
    "int(False)"
   ]
  },
  {
   "cell_type": "code",
   "execution_count": 36,
   "id": "445dd1f3-607e-433d-932a-9f923a0d4740",
   "metadata": {},
   "outputs": [
    {
     "data": {
      "text/plain": [
       "25"
      ]
     },
     "execution_count": 36,
     "metadata": {},
     "output_type": "execute_result"
    }
   ],
   "source": [
    "20+5"
   ]
  },
  {
   "cell_type": "code",
   "execution_count": 37,
   "id": "1e51c1d1-014c-4a06-8973-ec61d3f46ddc",
   "metadata": {},
   "outputs": [
    {
     "data": {
      "text/plain": [
       "15"
      ]
     },
     "execution_count": 37,
     "metadata": {},
     "output_type": "execute_result"
    }
   ],
   "source": [
    "5*3\n"
   ]
  },
  {
   "cell_type": "code",
   "execution_count": 38,
   "id": "950c4528-8919-436c-94fd-2943dfe5e54f",
   "metadata": {},
   "outputs": [
    {
     "data": {
      "text/plain": [
       "'Michael Jackson'"
      ]
     },
     "execution_count": 38,
     "metadata": {},
     "output_type": "execute_result"
    }
   ],
   "source": [
    "\"Michael Jackson\""
   ]
  },
  {
   "cell_type": "code",
   "execution_count": 44,
   "id": "627260e5-ea75-4566-8a07-f45908c1089d",
   "metadata": {},
   "outputs": [
    {
     "name": "stdout",
     "output_type": "stream",
     "text": [
      "M\n"
     ]
    }
   ],
   "source": [
    "word = \"Michael Jackson\"\n",
    "print(word[0])"
   ]
  },
  {
   "cell_type": "code",
   "execution_count": 45,
   "id": "b3ad4965-191f-4f86-8001-8ceba68f0584",
   "metadata": {},
   "outputs": [
    {
     "name": "stdout",
     "output_type": "stream",
     "text": [
      "ks\n"
     ]
    }
   ],
   "source": [
    "word = \"Michael Jackson\"\n",
    "print(word[-4:-2])"
   ]
  },
  {
   "cell_type": "code",
   "execution_count": 48,
   "id": "d516e07b-43ff-4bac-b9cb-355d051fc1ee",
   "metadata": {},
   "outputs": [
    {
     "name": "stdout",
     "output_type": "stream",
     "text": [
      "Michael Jackson\n",
      " is best\n"
     ]
    }
   ],
   "source": [
    "'Michael Jackson is best'\n",
    "print (\"Michael Jackson\\n is best\")"
   ]
  },
  {
   "cell_type": "code",
   "execution_count": 51,
   "id": "ba80e8d5-5334-488e-b8e7-e67f7da17630",
   "metadata": {},
   "outputs": [
    {
     "name": "stdout",
     "output_type": "stream",
     "text": [
      "[0, 2, 4, 6, 8]\n"
     ]
    }
   ],
   "source": [
    "numbers = [0, 1, 2, 3, 4, 5, 6, 7, 8, 9]\n",
    "even_indexed_elements = numbers[::2]\n",
    "print(even_indexed_elements)"
   ]
  },
  {
   "cell_type": "code",
   "execution_count": 53,
   "id": "65b3ab48-5db3-4288-a66d-1edf8e5ffa5f",
   "metadata": {},
   "outputs": [
    {
     "data": {
      "text/plain": [
       "1"
      ]
     },
     "execution_count": 53,
     "metadata": {},
     "output_type": "execute_result"
    }
   ],
   "source": [
    "\"01234567\".find('1')"
   ]
  },
  {
   "cell_type": "code",
   "execution_count": 54,
   "id": "2d45f747-a4bf-44a3-91cd-842fb3db1f81",
   "metadata": {},
   "outputs": [
    {
     "data": {
      "text/plain": [
       "4"
      ]
     },
     "execution_count": 54,
     "metadata": {},
     "output_type": "execute_result"
    }
   ],
   "source": [
    "\"01234567\".find('4')"
   ]
  },
  {
   "cell_type": "code",
   "execution_count": 55,
   "id": "e6b4c787-b39a-4a3d-97f9-2bf7a1a66169",
   "metadata": {},
   "outputs": [
    {
     "name": "stdout",
     "output_type": "stream",
     "text": [
      "Enter the first number:  1\n",
      "Enter the second number:  2\n"
     ]
    },
    {
     "name": "stdout",
     "output_type": "stream",
     "text": [
      "The sum of 1 and 2 is :3\n"
     ]
    }
   ],
   "source": [
    "\n",
    "num1 = int(input(\"Enter the first number: \"))\n",
    "num2 = int(input(\"Enter the second number: \"))\n",
    "sum_result=num1+num2\n",
    "print(f\"The sum of {num1} and {num2} is :{sum_result}\")"
   ]
  },
  {
   "cell_type": "code",
   "execution_count": 56,
   "id": "23eb82e4-a4cb-4d56-aae9-241a9c161d00",
   "metadata": {},
   "outputs": [
    {
     "data": {
      "text/plain": [
       "tuple"
      ]
     },
     "execution_count": 56,
     "metadata": {},
     "output_type": "execute_result"
    }
   ],
   "source": [
    "Ratings=(10,6,0,5,1,7,8,3,9)\n",
    "tuple1 = ('disco',1,6,10,2)\n",
    "type(Ratings)"
   ]
  },
  {
   "cell_type": "code",
   "execution_count": 57,
   "id": "e617c752-4abe-4fe2-a789-c9233a970913",
   "metadata": {},
   "outputs": [
    {
     "data": {
      "text/plain": [
       "tuple"
      ]
     },
     "execution_count": 57,
     "metadata": {},
     "output_type": "execute_result"
    }
   ],
   "source": [
    "type(tuple1)"
   ]
  },
  {
   "cell_type": "code",
   "execution_count": 59,
   "id": "a565f16d-2bcf-44dd-8303-50a91a691549",
   "metadata": {},
   "outputs": [],
   "source": [
    "tuple2= Ratings + tuple1"
   ]
  },
  {
   "cell_type": "code",
   "execution_count": 61,
   "id": "52f7ebc8-d2cb-401b-bb9a-7561e828176c",
   "metadata": {},
   "outputs": [],
   "source": [
    "NT = (10, (2, 'pop', 'rock'), (1.2, 1.3), ('data', 3))"
   ]
  },
  {
   "cell_type": "code",
   "execution_count": null,
   "id": "419fec50-3daa-40a8-b6c0-7172cd0898eb",
   "metadata": {},
   "outputs": [],
   "source": []
  },
  {
   "cell_type": "code",
   "execution_count": null,
   "id": "ce93b6f6-f862-46f5-ad3c-b497a755ee84",
   "metadata": {},
   "outputs": [],
   "source": []
  },
  {
   "cell_type": "code",
   "execution_count": null,
   "id": "502c01cc-909c-4e57-b5ae-8d14cd1932b6",
   "metadata": {},
   "outputs": [],
   "source": []
  },
  {
   "cell_type": "code",
   "execution_count": 62,
   "id": "2c98f95b-d49c-4e19-af0d-2def9dcd24fb",
   "metadata": {},
   "outputs": [
    {
     "name": "stdout",
     "output_type": "stream",
     "text": [
      "1\n",
      "2\n",
      "3\n",
      "4\n",
      "5\n"
     ]
    }
   ],
   "source": [
    "L1 = [1,2,3,4,5]\n",
    "for number in L1:\n",
    "  print(number)"
   ]
  },
  {
   "cell_type": "code",
   "execution_count": 63,
   "id": "111e9970-cad4-4b9d-99ec-a761e4bd91ee",
   "metadata": {},
   "outputs": [
    {
     "name": "stdout",
     "output_type": "stream",
     "text": [
      "h\n",
      "e\n",
      "l\n",
      "l\n",
      "o\n"
     ]
    }
   ],
   "source": [
    "word = \"hello\"\n",
    "for letter in word:\n",
    "    print(letter)"
   ]
  },
  {
   "cell_type": "code",
   "execution_count": 64,
   "id": "a293c0fd-e895-4f93-9fc3-0a2382df5f9c",
   "metadata": {},
   "outputs": [
    {
     "name": "stdout",
     "output_type": "stream",
     "text": [
      "0\n",
      "1\n",
      "2\n",
      "3\n",
      "4\n"
     ]
    }
   ],
   "source": [
    "for i in range(5):\n",
    "    print(i)"
   ]
  },
  {
   "cell_type": "code",
   "execution_count": 65,
   "id": "ffab8841-8290-4a65-89c0-94a764a38dc2",
   "metadata": {},
   "outputs": [
    {
     "name": "stdout",
     "output_type": "stream",
     "text": [
      "5\n",
      "4\n",
      "3\n",
      "2\n",
      "1\n",
      "0\n"
     ]
    }
   ],
   "source": [
    "for i in range(5,-1,-1):\n",
    "    print(i)"
   ]
  },
  {
   "cell_type": "code",
   "execution_count": 6,
   "id": "f05ca2ad-49df-40c0-a647-e2f713c8d83f",
   "metadata": {},
   "outputs": [
    {
     "name": "stdout",
     "output_type": "stream",
     "text": [
      "5\n",
      "3\n",
      "1\n"
     ]
    }
   ],
   "source": [
    "for i in range(5,-1,-2):\n",
    "    print(i)"
   ]
  },
  {
   "cell_type": "code",
   "execution_count": 7,
   "id": "4c8baffc-dd1b-4e2e-848d-74f50a028d03",
   "metadata": {},
   "outputs": [
    {
     "name": "stdout",
     "output_type": "stream",
     "text": [
      "1\n",
      "2\n",
      "3\n",
      "4\n"
     ]
    }
   ],
   "source": [
    "for i in range(1,5,1):\n",
    "    print(i)"
   ]
  },
  {
   "cell_type": "markdown",
   "id": "bd9a3efa-a89f-4962-841c-89a7389313f6",
   "metadata": {},
   "source": [
    "student ={'name':'Alice','age':20, 'grade':'A'}\n",
    "for key, value in students.items():\n",
    "    print(f\"{key}: {value}\")\n",
    "    "
   ]
  },
  {
   "cell_type": "raw",
   "id": "81c14c2f-a453-4377-9536-0144ab4698ca",
   "metadata": {},
   "source": []
  },
  {
   "cell_type": "code",
   "execution_count": 10,
   "id": "b74fac7a-1c0b-49fb-9f2f-b4a4bdb43048",
   "metadata": {},
   "outputs": [
    {
     "name": "stdout",
     "output_type": "stream",
     "text": [
      "Row: 0, column: 0\n",
      "Row: 0, column: 1\n",
      "Row: 0, column: 2\n",
      "Row: 1, column: 0\n",
      "Row: 1, column: 1\n",
      "Row: 1, column: 2\n",
      "Row: 2, column: 0\n",
      "Row: 2, column: 1\n",
      "Row: 2, column: 2\n"
     ]
    }
   ],
   "source": [
    "for row in range(3):\n",
    "    for col in range(3):\n",
    "      print(f\"Row: {row}, column: {col}\")"
   ]
  },
  {
   "cell_type": "code",
   "execution_count": 11,
   "id": "f6d5d2bb-073f-4ddc-bec7-2df73c9e7d18",
   "metadata": {},
   "outputs": [
    {
     "name": "stdout",
     "output_type": "stream",
     "text": [
      "2 is even\n",
      "4 is even\n",
      "6 is even\n"
     ]
    }
   ],
   "source": [
    "numbers = [1,2,3,4,5,6]\n",
    "for number in numbers:\n",
    "    if number % 2 == 0:\n",
    "        print(f\"{number} is even\")"
   ]
  },
  {
   "cell_type": "code",
   "execution_count": 13,
   "id": "6497b69b-b87d-4cc4-8138-9ed39b57e1cb",
   "metadata": {},
   "outputs": [
    {
     "name": "stdout",
     "output_type": "stream",
     "text": [
      "1\n",
      "2\n",
      "3\n",
      "4\n",
      "5\n"
     ]
    }
   ],
   "source": [
    "count = 1\n",
    "while count <= 5:\n",
    "    print(count)\n",
    "    count +=1"
   ]
  },
  {
   "cell_type": "code",
   "execution_count": 16,
   "id": "619771f6-7dc0-4ea0-94a1-e1d1f745e92d",
   "metadata": {},
   "outputs": [
    {
     "name": "stdout",
     "output_type": "stream",
     "text": [
      "1\n",
      "2\n",
      "3\n",
      "4\n",
      "5\n"
     ]
    }
   ],
   "source": [
    "number = 1\n",
    "while True:\n",
    "    print(number)\n",
    "    number += 1\n",
    "    if number > 5:\n",
    "        break"
   ]
  },
  {
   "cell_type": "code",
   "execution_count": 18,
   "id": "a627d81f-56a5-4c5c-8f08-c37c3cdc1ada",
   "metadata": {},
   "outputs": [
    {
     "data": {
      "text/plain": [
       "[1, 2, 3, 4, 5]"
      ]
     },
     "execution_count": 18,
     "metadata": {},
     "output_type": "execute_result"
    }
   ],
   "source": [
    "import numpy as np\n",
    "a=[1,2,3,4,5]\n",
    "x=np.array(a)\n",
    "a"
   ]
  },
  {
   "cell_type": "code",
   "execution_count": 19,
   "id": "becbfb44-3c00-4800-8385-9b1a6c32e7cc",
   "metadata": {},
   "outputs": [
    {
     "data": {
      "text/plain": [
       "1"
      ]
     },
     "execution_count": 19,
     "metadata": {},
     "output_type": "execute_result"
    }
   ],
   "source": [
    "x.ndim"
   ]
  },
  {
   "cell_type": "code",
   "execution_count": 20,
   "id": "25e52845-0cfe-42af-9dc9-c2f9f2328845",
   "metadata": {},
   "outputs": [
    {
     "name": "stdout",
     "output_type": "stream",
     "text": [
      "2\n"
     ]
    }
   ],
   "source": [
    "x = np.array([[1,2,3],[4,5,6]])\n",
    "print(x.ndim)"
   ]
  },
  {
   "cell_type": "code",
   "execution_count": 22,
   "id": "ac41d3ff-a14c-4756-81a7-67a79051d665",
   "metadata": {},
   "outputs": [
    {
     "name": "stdout",
     "output_type": "stream",
     "text": [
      "Matrix A:\n",
      "[[1 2]\n",
      " [3 4]]\n",
      "Matrix B:\n",
      "[[5 6]\n",
      " [7 8]]\n"
     ]
    }
   ],
   "source": [
    "A = np.array([[1,2], [3,4]])\n",
    "B = np.array([[5,6], [7,8]])\n",
    "\n",
    "print(\"Matrix A:\")\n",
    "print(A)\n",
    "\n",
    "print(\"Matrix B:\")\n",
    "print(B)"
   ]
  },
  {
   "cell_type": "code",
   "execution_count": 27,
   "id": "c9f49b58-6199-4b3a-94e5-991417f5a60c",
   "metadata": {},
   "outputs": [
    {
     "name": "stdout",
     "output_type": "stream",
     "text": [
      "M\n",
      "Matrix Addition (A + B):\n",
      "[[ 6  8]\n",
      " [10 12]]\n"
     ]
    }
   ],
   "source": [
    "import numpy as np\n",
    "A = np.array([[1,2], [3,4]])\n",
    "B = np.array([[5,6], [7,8]])\n",
    "print(\"M\\nMatrix Addition (A + B):\")\n",
    "C_add = A + B\n",
    "print(C_add)"
   ]
  },
  {
   "cell_type": "code",
   "execution_count": null,
   "id": "44a1d0d3-5218-4304-89d3-7256501c8319",
   "metadata": {},
   "outputs": [
    {
     "name": "stdout",
     "output_type": "stream",
     "text": [
      "Matrix Addition (A + B):\n",
      "[[ 6  8]\n",
      " [10 12]]\n",
      "\n",
      "Scalar Multiplication (A * 3):\n",
      "[[ 3  6]\n",
      " [ 9 12]]\n"
     ]
    }
   ],
   "source": [
    " as np\n",
    "imponumpyrt\n",
    "A = np.array([[1, 2], [3, 4]])\n",
    "B = np.array([[5, 6], [7, 8]])\n",
    "\n",
    "print(\"Matrix Addition (A + B):\")\n",
    "C_add = A + B\n",
    "print(C_add)\n",
    "\n",
    "Scalar = 3\n",
    "print(f\"\\nScalar Multiplication (A * {Scalar}):\")\n",
    "C_scalar = A * Scalar\n",
    "print(C_scalar)"
   ]
  },
  {
   "cell_type": "code",
   "execution_count": 2,
   "id": "c56be63f-31c9-409c-930d-6b5b5a609e0c",
   "metadata": {},
   "outputs": [
    {
     "name": "stdout",
     "output_type": "stream",
     "text": [
      "\n",
      "Element-wise Squaring (A ** 2):\n",
      "[[ 1  4]\n",
      " [ 9 16]]\n"
     ]
    }
   ],
   "source": [
    "import numpy as np\n",
    "\n",
    "A = np.array([[1, 2], [3, 4]])\n",
    "\n",
    "print(\"\\nElement-wise Squaring (A ** 2):\")\n",
    "C_Element = A ** 2\n",
    "print(C_Element)"
   ]
  },
  {
   "cell_type": "code",
   "execution_count": 27,
   "id": "47888f7b-e168-40fc-a14b-89a26c87c97c",
   "metadata": {},
   "outputs": [
    {
     "name": "stdout",
     "output_type": "stream",
     "text": [
      "\n",
      "Transpose of Matrix A (A^T):\n",
      "[[1 3]\n",
      " [2 4]]\n"
     ]
    }
   ],
   "source": [
    "print(\"\\nTranspose of Matrix A (A^T):\")\n",
    "A_transpose = A.T\n",
    "print(A_transpose)"
   ]
  },
  {
   "cell_type": "code",
   "execution_count": 29,
   "id": "e490ede2-82fa-4eb7-aad9-b3c67b71774d",
   "metadata": {},
   "outputs": [
    {
     "name": "stdout",
     "output_type": "stream",
     "text": [
      "[[0. 0.]\n",
      " [0. 0.]]\n",
      "[[1. 1.]]\n",
      "[[7 7]\n",
      " [7 7]]\n",
      "[[1. 0.]\n",
      " [0. 1.]]\n",
      "[[0.81781878 0.96885792]\n",
      " [0.91862592 0.9101614 ]]\n"
     ]
    }
   ],
   "source": [
    "a = np.zeros((2,2))\n",
    "print(a)\n",
    "\n",
    "b = np.ones((1,2))\n",
    "print(b)\n",
    "\n",
    "c = np.full((2,2), 7)\n",
    "print(c)\n",
    "\n",
    "d = np.eye(2)\n",
    "print(d)\n",
    "\n",
    "e = np.random.random((2,2))\n",
    "print(e)"
   ]
  },
  {
   "cell_type": "code",
   "execution_count": 31,
   "id": "f19474a1-064b-413f-ace4-1a17552091e3",
   "metadata": {},
   "outputs": [
    {
     "name": "stdout",
     "output_type": "stream",
     "text": [
      "[[ 3.     4.     5.     6.   ]\n",
      " [ 0.    -0.25  -0.5   -0.75 ]\n",
      " [ 0.    -0.625 -3.5   -4.875]\n",
      " [ 0.     1.     1.     1.   ]]\n",
      "[[ 3.    4.    5.    6.  ]\n",
      " [ 0.   -0.25 -0.5  -0.75]\n",
      " [ 0.    0.   -0.9  -1.2 ]\n",
      " [ 0.    0.    0.25  0.5 ]]\n",
      "[[ 3.    4.    5.    6.  ]\n",
      " [ 0.   -0.25 -0.5  -0.75]\n",
      " [ 0.    0.   -0.9  -1.2 ]\n",
      " [ 0.    0.    0.   -0.6 ]]\n"
     ]
    }
   ],
   "source": [
    "a=np.array([[3,4,5,6],[4,5,6,7],[8,9,4,3],[3,5,6,7]],float)\n",
    "b=np.array([4,5,6,7],float)\n",
    "n=len(or j in range (i+1,n):\n",
    "     a)\n",
    "for i in range (n-1):\n",
    "    f   if a[j,i]==0: continue\n",
    "        factor=a[i,i]/a[j,i]\n",
    "        for k in range (i,n):\n",
    "            a[j,k]=a[j,k]*factor-a[i,k]\n",
    "    print(a)"
   ]
  },
  {
   "cell_type": "code",
   "execution_count": 2,
   "id": "6186ad7f-f24b-4b7a-86d1-0f330eb0fe4e",
   "metadata": {},
   "outputs": [
    {
     "name": "stdout",
     "output_type": "stream",
     "text": [
      "[[ 3.     4.     5.     6.   ]\n",
      " [ 0.    -0.25  -0.5   -0.75 ]\n",
      " [ 0.    -0.625 -3.5   -4.875]\n",
      " [ 0.     1.     1.     1.   ]]\n",
      "[ 4.    -1.25   1.375 -3.   ]\n",
      "[[ 3.    4.    5.    6.  ]\n",
      " [ 0.   -0.25 -0.5  -0.75]\n",
      " [ 0.    0.   -0.9  -1.2 ]\n",
      " [ 0.    0.    0.25  0.5 ]]\n",
      "[ 4.   -1.25 -0.05 -2.  ]\n",
      "[[ 3.    4.    5.    6.  ]\n",
      " [ 0.   -0.25 -0.5  -0.75]\n",
      " [ 0.    0.   -0.9  -1.2 ]\n",
      " [ 0.    0.    0.   -0.6 ]]\n",
      "[ 4.   -1.25 -0.05 -7.25]\n"
     ]
    }
   ],
   "source": [
    "import numpy as np\n",
    "a=np.array([[3,4,5,6],[4,5,6,7],[8,9,4,3],[3,5,6,7]],float)\n",
    "b=np.array([4,5,6,7],float)\n",
    "n=len(a)\n",
    "for i in range (n-1):\n",
    "    for j in range (i+1,n):\n",
    "        if a[j,i]==0: continue\n",
    "        factor=a[i,i]/a[j,i]\n",
    "        for k in range (i,n):\n",
    "            a[j,k]=a[j,k]*factor-a[i,k]\n",
    "        b[j]=b[i]-b[k]*factor\n",
    "    print(a)\n",
    "    print(b)"
   ]
  },
  {
   "cell_type": "code",
   "execution_count": null,
   "id": "9851dbbc-a2e0-4ff2-89ea-f08350e1592c",
   "metadata": {},
   "outputs": [
    {
     "name": "stdout",
     "output_type": "stream",
     "text": [
      "[[ 1.  2.  3.]\n",
      " [ 2. -1.  1.]\n",
      " [ 3.  0. -1.]]\n",
      "[9. 8. 3.]\n",
      "[[ 1.  2.  3.]\n",
      " [ 0. -5. -5.]\n",
      " [ 0.  0. -4.]]\n",
      "[  9. -10. -12.]\n",
      "[0. 0. 0.]\n",
      "[ 2. -1.  3.]\n",
      "\\Required solution is: \n",
      "x0 = 2.00\tx1 = -1.00\tx2 = 3.00\t"
     ]
    }
   ],
   "source": [
    "import numpy as np\n",
    "a=np.array([[1,2,3],[2,-1,1],[3,0,-1]],float)\n",
    "b=np.array([9,8,3],float)\n",
    "print(a)\n",
    "print(b)\n",
    "n=len(a)\n",
    "for i in range (n-1):\n",
    "    for j in range (i+1,n):\n",
    "        if a[j,i]==0: continue\n",
    "        factor=a[j,i]/a[i,i]\n",
    "        for k in range (i,n):\n",
    "            a[j,k]=a[j,k]-a[i,k]*factor\n",
    "        b[j]=b[j]-b[i]*factor\n",
    "print(a)\n",
    "print(b)\n",
    "x = np.zeros(n)\n",
    "print (x)\n",
    "x[n-1]=b[n-1]/a[n-1,n-1]\n",
    "\n",
    "for i in range(n-2,-1,-1):\n",
    "    sum=0\n",
    "    for j in range(i+1,n):\n",
    "        sum = sum+a[i,j]*x[j]\n",
    "    x[i]=(b[i]-sum)/a[i,i]\n",
    "print(x)\n",
    "\n",
    "print('\\Required solution is: ')\n",
    "for i in range(n):\n",
    "          print('x%d = %0.2f' %(i,x[i]), end = '\\t')\n",
    "    \n",
    "\n"
   ]
  },
  {
   "cell_type": "code",
   "execution_count": 3,
   "id": "4043735b-7627-4c64-9e90-107ca1866e33",
   "metadata": {},
   "outputs": [
    {
     "name": "stdout",
     "output_type": "stream",
     "text": [
      "[[ 0.17647059 -0.00326797 -0.02287582]\n",
      " [ 0.05882353 -0.13071895  0.08496732]\n",
      " [-0.11764706  0.1503268   0.05228758]]\n"
     ]
    }
   ],
   "source": [
    "import numpy as np\n",
    "A = np.array([[6,1,1],\n",
    "              [4,-2,5],\n",
    "              [2,8,7]])\n",
    "print(np.linalg.inv(A))"
   ]
  },
  {
   "cell_type": "code",
   "execution_count": 5,
   "id": "4adc9c7e-8f9a-4f72-adfc-60df20d28872",
   "metadata": {},
   "outputs": [
    {
     "name": "stdout",
     "output_type": "stream",
     "text": [
      "[-0.58226371  3.22870478 -1.98599767]\n"
     ]
    }
   ],
   "source": [
    "import numpy as np\n",
    "a=np.array([[8,3,-2],[-4,7,5],[3,4,-12]])\n",
    "b=np.array([9,15,35])\n",
    "x=np.linalg.solve(a, b)\n",
    "print(x)"
   ]
  },
  {
   "cell_type": "code",
   "execution_count": 17,
   "id": "40f07205-753e-4535-97dd-b3666241ea9c",
   "metadata": {},
   "outputs": [
    {
     "name": "stdout",
     "output_type": "stream",
     "text": [
      "A: [[ 7  3 -1  2]\n",
      " [ 3  8  1 -4]\n",
      " [-1  1  4 -1]\n",
      " [ 2 -4 -1  1]]\n",
      "L: [[ 1.          0.          0.          0.        ]\n",
      " [ 0.42857143  1.          0.          0.        ]\n",
      " [-0.14285714  0.21276596  1.          0.        ]\n",
      " [ 0.28571429 -0.72340426  0.08982036  1.        ]]\n",
      "U: [[ 7.          3.         -1.          2.        ]\n",
      " [ 0.          6.71428571  1.42857143 -4.85714286]\n",
      " [ 0.          0.          3.55319149  0.31914894]\n",
      " [ 0.          0.          0.         -3.11377246]]\n"
     ]
    }
   ],
   "source": [
    "import pprint\n",
    "import numpy as np\n",
    "from scipy.linalg import lu\n",
    "\n",
    "A=np.array([[7,3,-1,2],[3,8,1,-4],[-1,1,4,-1],[2,-4,-1,1]])\n",
    "P, L, U =lu(A)\n",
    "print(\"A:\",A)\n",
    "print(\"L:\",L)\n",
    "print(\"U:\",U)\n",
    "\n"
   ]
  },
  {
   "cell_type": "code",
   "execution_count": 12,
   "id": "be0acdaf-8ca6-4271-a264-ae8908a38e2d",
   "metadata": {},
   "outputs": [
    {
     "name": "stdout",
     "output_type": "stream",
     "text": [
      "L: [[ 1.          0.          0.          0.        ]\n",
      " [ 0.28571429  1.          0.          0.        ]\n",
      " [ 0.71428571  0.12        1.          0.        ]\n",
      " [ 0.71428571 -0.44       -0.46153846  1.        ]]\n",
      "U: [[ 7.          5.          6.          6.        ]\n",
      " [ 0.          3.57142857  6.28571429  5.28571429]\n",
      " [ 0.          0.         -1.04        3.08      ]\n",
      " [ 0.          0.          0.          7.46153846]]\n",
      "LU: [[ 7.          5.          6.          6.        ]\n",
      " [ 0.28571429  3.57142857  6.28571429  5.28571429]\n",
      " [ 0.71428571  0.12       -1.04        3.08      ]\n",
      " [ 0.71428571 -0.44       -0.46153846  7.46153846]]\n",
      "piv: [2 2 3 3]\n",
      "the solutions are [ 0.05154639 -0.08247423  0.08247423  0.09278351]\n"
     ]
    }
   ],
   "source": [
    "import numpy as np\n",
    "from scipy.linalg import lu_factor, lu_solve\n",
    "A = np.array([[2,5,8,7],[5,2,2,8],[7,5,6,6],[5,4,4,8]])\n",
    "b .a= nprray([1,1,1,1])\n",
    "LU, piv = lu_factor(A)\n",
    "L, U  n=p.tril(LU, k=-1) + np.eye(4), np.triu(LU)\n",
    "print(\"L:\",L)\n",
    "print(\"U:\",U)\n",
    "print(\"LU:\",LU)\n",
    "print(\"piv:\",piv)\n",
    "x1 = lu_solve((LU,piv),b)\n",
    "print(\"the solutions are\",x1)"
   ]
  },
  {
   "cell_type": "code",
   "execution_count": 13,
   "id": "5b02089d-a16c-4f6d-9315-e03d50b608a1",
   "metadata": {},
   "outputs": [
    {
     "name": "stdout",
     "output_type": "stream",
     "text": [
      "[[1 2 3]\n",
      " [0 5 6]\n",
      " [0 0 9]\n",
      " [0 0 0]]\n"
     ]
    }
   ],
   "source": [
    "import numpy as np\n",
    "u=np.triu([[1,2,3],[4,5,6],[7,8,9],[10,11,12]])\n",
    "print(u)"
   ]
  },
  {
   "cell_type": "code",
   "execution_count": 14,
   "id": "5f6f23a7-ad86-4c6b-88aa-1f74e6928cf9",
   "metadata": {},
   "outputs": [
    {
     "name": "stdout",
     "output_type": "stream",
     "text": [
      "[[ 1  0  0]\n",
      " [ 4  5  0]\n",
      " [ 7  8  9]\n",
      " [10 11 12]]\n"
     ]
    }
   ],
   "source": [
    "import numpy as np\n",
    "l=np.tril([[1,2,3],[4,5,6],[7,8,9],[10,11,12]])\n",
    "print(l)"
   ]
  },
  {
   "cell_type": "code",
   "execution_count": 15,
   "id": "090a0eb2-76a9-4a79-a776-fe20cc9a6706",
   "metadata": {},
   "outputs": [
    {
     "name": "stdout",
     "output_type": "stream",
     "text": [
      "[[2 5 8 7]\n",
      " [5 2 2 8]\n",
      " [0 5 6 6]\n",
      " [0 0 4 8]]\n"
     ]
    }
   ],
   "source": [
    "import numpy as np\n",
    "a=np.array([[2,5,8,7],[5,2,2,8],[7,5,6,6],[5,4,4,8]])\n",
    "\n",
    "L=np.triu(A, k=-1)\n",
    "print(L)"
   ]
  },
  {
   "cell_type": "code",
   "execution_count": 22,
   "id": "86203f44-3529-4bda-b37b-96e2d02a67a1",
   "metadata": {},
   "outputs": [
    {
     "data": {
      "text/plain": [
       "5"
      ]
     },
     "execution_count": 22,
     "metadata": {},
     "output_type": "execute_result"
    }
   ],
   "source": [
    "def sum(a,b):\n",
    "    c=a+b\n",
    "    return c\n",
    "sum(2,3)"
   ]
  },
  {
   "cell_type": "code",
   "execution_count": 24,
   "id": "dc38c532-c703-4cba-bbda-248a5fc557dc",
   "metadata": {},
   "outputs": [
    {
     "data": {
      "text/plain": [
       "0.5"
      ]
     },
     "execution_count": 24,
     "metadata": {},
     "output_type": "execute_result"
    }
   ],
   "source": [
    "def div(a,b):\n",
    "    c=a/b\n",
    "    return c\n",
    "div(3,6)"
   ]
  },
  {
   "cell_type": "code",
   "execution_count": 9,
   "id": "d2e08890-d245-4ac0-b486-de118105933f",
   "metadata": {},
   "outputs": [
    {
     "name": "stdout",
     "output_type": "stream",
     "text": [
      "Augmented Matrix [A | b]:\n",
      " [[0.   1.   1.   3.65]\n",
      " [1.   1.   0.   1.55]\n",
      " [1.   0.   1.   0.  ]]\n",
      "Rank of Matrix A: 3\n",
      "Rank of Matrix AB: 3\n",
      "Number of unknowns: 3\n",
      "The system is consistent.\n",
      "The system has a unique solution.\n",
      "\n",
      "Result: [-1.05  2.6   1.05]\n"
     ]
    }
   ],
   "source": [
    "import numpy as np\n",
    "\n",
    "def check_consistency(A, b):\n",
    "    AB = np.hstack((A, b.reshape(-1, 1)))\n",
    "    print(\"Augmented Matrix [A | b]:\\n\", AB)\n",
    "\n",
    "    rank_A = np.linalg.matrix_rank(A)\n",
    "    print(\"Rank of Matrix A:\", rank_A)\n",
    "    rank_AB = np.linalg.matrix_rank(AB)\n",
    "    print(\"Rank of Matrix AB:\", rank_AB)\n",
    "    print(\"Number of unknowns:\", len(A))\n",
    "\n",
    "    if rank_A == rank_AB:\n",
    "        print(\"The system is consistent.\")\n",
    "        if rank_A == len(A):\n",
    "            print(\"The system has a unique solution.\")\n",
    "            x = solve(A, b)\n",
    "        else:\n",
    "            x = \"The system has infinitely many solutions.\"\n",
    "    else:\n",
    "        x = \"The system is inconsistent.\"\n",
    "\n",
    "    return x\n",
    "\n",
    "A = np.array([[0, 1, 1],\n",
    "              [1, 1, 0],\n",
    "              [1, 0, 1]])\n",
    "b = np.array([3.65, 1.55, 0])\n",
    "\n",
    "result = check_consistency(A, b)\n",
    "print(\"\\nResult:\", resulAugmented Matrix [A | b]:\n",
    " [[0.   1.   1.   3.65]\n",
    " [1.   1.   0.   1.55]\n",
    " [1.   0.   1.   0.  ]]\n",
    "Rank of Matrix A: 3\n",
    "t)\n"
   ]
  },
  {
   "cell_type": "code",
   "execution_count": 7,
   "id": "910b2dc5-814a-4e0a-a422-6111104b38d1",
   "metadata": {},
   "outputs": [
    {
     "name": "stdout",
     "output_type": "stream",
     "text": [
      "Augmented Matrix [A|b]:\n",
      " [[0.   1.   1.   3.65]\n",
      " [1.   1.   0.   1.55]\n",
      " [1.   0.   1.   0.  ]]\n",
      "The rank of Matrix A: 3\n",
      "The rank of Matrix AB: 3\n",
      "Number of unknowns: 3\n",
      "v can be expressed as a linear combination of A, and the solution is as follows:\n",
      "[-1.05  2.6   1.05]\n"
     ]
    }
   ],
   "source": [
    "import numpy as np\n",
    "from scipy.linalg import solve\n",
    "\n",
    "def check_linearcombination(A, b):\n",
    "    AB = np.hstack((A, b.reshape(-1, 1)))\n",
    "    print(\"Augmented Matrix [A|b]:\\n\", AB)\n",
    "\n",
    "    rank_A = np.linalg.matrix_rank(A)\n",
    "    print(\"The rank of Matrix A:\", rank_A)\n",
    "    \n",
    "    rank_AB = np.linalg.matrix_rank(AB)\n",
    "    print(\"The rank of Matrix AB:\", rank_AB)\n",
    "    \n",
    "    print(\"Number of unknowns:\", len(A))\n",
    "\n",
    "    if rank_A == rank_AB:\n",
    "        if rank_A == len(A):\n",
    "            print(\"v can be expressed as a linear combination of A, and the solution is as follows:\")\n",
    "            x = solve(A, b)\n",
    "        else:\n",
    "            x = \"v can be expressed as a linear combination of A, but there are infinite solutions.\"\n",
    "    else:\n",
    "        x = \"v cannot be expressed as a linear combination of A.\"\n",
    "    \n",
    "    return x\n",
    "\n",
    "u1 = np.array([0, 1, 1])\n",
    "u2 = np.array([1, 1, 0])\n",
    "u3 = np.array([1, 0, 1])\n",
    "v = np.array([3.65, 1.55, 0])\n",
    "\n",
    "A = np.column_stack((u1, u2, u3))\n",
    "result = check_linearcombination(A, v)\n",
    "print(result)\n"
   ]
  },
  {
   "cell_type": "code",
   "execution_count": 5,
   "id": "62f80a08-4dc4-4489-999c-05da073ac099",
   "metadata": {},
   "outputs": [
    {
     "name": "stdout",
     "output_type": "stream",
     "text": [
      "The rank of a Matrix A 2\n",
      "no of elements in a vector 3\n",
      "The given vectors does not spans the vector space V\n",
      "\n",
      "The rank of a Matrix A 3\n",
      "no of elements in a vector 3\n",
      "The given vectors spans the vector space V\n"
     ]
    }
   ],
   "source": [
    "import numpy as np\n",
    "\n",
    "def is_spans(vectors):\n",
    "    rank_A=np.linalg.matrix_rank(vectors)\n",
    "    print(\"The rank of a Matrix A\",rank_A)\n",
    "    L=len(vectors[0])\n",
    "    print(\"no of elements in a vector\",L)\n",
    "    if rank_A==L:\n",
    "        x=\"The given vectors spans the vector space V\"\n",
    "        return x\n",
    "    else:\n",
    "        x=\"The given vectors does not spans the vector space V\"\n",
    "        return x\n",
    "\n",
    "vectors = [\n",
    "    [1,0,0],\n",
    "    [0,1,2]\n",
    "]\n",
    "print(is_spans(vectors))\n",
    "\n",
    "print(\"\")\n",
    "\n",
    "vectors = [\n",
    "    [1,0,0],\n",
    "    [0,1,0],\n",
    "    [0,2,1],\n",
    "    [0,2,1]\n",
    "]\n",
    "print(is_spans(vectors)) "
   ]
  },
  {
   "cell_type": "code",
   "execution_count": 4,
   "id": "eb8ff69c-62e8-4f51-9cba-df9231efca3f",
   "metadata": {},
   "outputs": [
    {
     "name": "stdout",
     "output_type": "stream",
     "text": [
      "The rank of a Matrix A 2\n",
      "Number of elements in each vector 3\n",
      "no of unknowns 2\n",
      "The given vectors does not form Basis\n",
      "\n",
      "The rank of a Matrix A 3\n",
      "Number of elements in each vector 3\n",
      "no of unknowns 4\n",
      "The given vectors does not form Basis\n"
     ]
    }
   ],
   "source": [
    "import numpy as np\n",
    "\n",
    "def is_Basis(vectors):\n",
    "    rank_A=np.linalg.matrix_rank(vectors)\n",
    "    print(\"The rank of a Matrix A\",rank_A)\n",
    "    AB=len(vectors[0])\n",
    "    print(\"Number of elements in each vector\",AB)\n",
    "    n=np.shape(vectors)[0]\n",
    "    print(\"no of unknowns\",n)\n",
    "    if rank_A==AB==np.shape(vectors)[0]:\n",
    "        x=\"The given vectors Basis\"\n",
    "        return x\n",
    "    else:\n",
    "        x=\"The given vectors does not form Basis\"\n",
    "        return x\n",
    "\n",
    "vectors = [\n",
    "    [1,0,0],\n",
    "    [0,1,2]\n",
    "]\n",
    "print(is_Basis(vectors))\n",
    "\n",
    "print(\"\")\n",
    "\n",
    "vectors = [\n",
    "    [1,0,0],\n",
    "    [0,1,0],\n",
    "    [0,2,1],\n",
    "    [0,2,1]\n",
    "]\n",
    "print(is_Basis(vectors)) "
   ]
  },
  {
   "cell_type": "code",
   "execution_count": 4,
   "id": "fa0e5a6b-2ce0-4a5d-a2f6-f01cc949d5e2",
   "metadata": {},
   "outputs": [
    {
     "name": "stdout",
     "output_type": "stream",
     "text": [
      "Matrix M Matrix([[1, 2, 3, 0, 0], [4, 10, 0, 0, 1]])\n",
      "there are 2 rows and 5 columns\n",
      "Transpose of a Matrix M Matrix([[1, 4], [2, 10], [3, 0], [0, 0], [0, 1]])\n",
      "\n",
      "column space of M/n [Matrix([\n",
      "[1],\n",
      "[4]]), Matrix([\n",
      "[ 2],\n",
      "[10]])]\n",
      "Dimension of column space of M/n 2\n",
      "------------------------------------------\n",
      "------------------------------------------\n",
      "null space of M/n [Matrix([\n",
      "[-15],\n",
      "[  6],\n",
      "[  1],\n",
      "[  0],\n",
      "[  0]]), Matrix([\n",
      "[0],\n",
      "[0],\n",
      "[0],\n",
      "[1],\n",
      "[0]]), Matrix([\n",
      "[   1],\n",
      "[-1/2],\n",
      "[   0],\n",
      "[   0],\n",
      "[   1]])]\n",
      "Dimension of null space of M/n 2\n",
      "------------------------------------------\n",
      "------------------------------------------\n"
     ]
    }
   ],
   "source": [
    "from sympy import*\n",
    "M = Matrix([[1,2,3,0,0],[4,10,0,0,1]])\n",
    "print(\"Matrix M\",M)\n",
    "m,n=M.shape\n",
    "print(f\"there are {m} rows and {n} columns\")\n",
    "MT=M.T\n",
    "print(\"Transpose of a Matrix M\",MT)\n",
    "print(\"\")\n",
    "C_M=M.columnspace()\n",
    "print(\"column space of M/n\",C_M)\n",
    "print(\"Dimension of column space of M/n\",M.rank())\n",
    "print(\"------------------------------------------\")\n",
    "print(\"------------------------------------------\")\n",
    "N_M=M.nullspace()\n",
    "print(\"null space of M/n\",N_M)\n",
    "print(\"Dimension of null space of M/n\",M.rank())\n",
    "print(\"------------------------------------------\")\n",
    "print(\"------------------------------------------\")"
   ]
  },
  {
   "cell_type": "code",
   "execution_count": 12,
   "id": "605ee527-2e2a-47e1-a814-769293b4b8d0",
   "metadata": {},
   "outputs": [
    {
     "name": "stdout",
     "output_type": "stream",
     "text": [
      "The dot product between two vectors is0\n",
      "The lenght of the vectors[1, 0, 0] is 1.0\n",
      "The lenght of the vectors[0, 2, 0] is 2.0\n",
      "The given two vectors are orthogonal but length of one vector is not 1 so not orthonormal\n"
     ]
    }
   ],
   "source": [
    "import numpy as np\n",
    "vectors = [\n",
    "    [1,0,0],\n",
    "    [0,2,0]\n",
    "]\n",
    "dot_product = np.dot(vectors[0] , vectors[1])\n",
    "print(f\"The dot product between two vectors is{dot_product}\")\n",
    "\n",
    "norm_v0=np.linalg.norm(vectors[0])\n",
    "print(f\"The lenght of the vectors{vectors[0]} is {norm_v0}\")\n",
    "\n",
    "norm_v1=np.linalg.norm(vectors[1])\n",
    "print(f\"The lenght of the vectors{vectors[1]} is {norm_v1}\")\n",
    "\n",
    "if dot_product==0:\n",
    "    if norm_v0==norm_v1==1:\n",
    "        print(\"The given two vectors are orthogonal and orthonormal\")\n",
    "    else:\n",
    "        print(\"The given two vectors are orthogonal but length of one vector is not 1 so not orthonormal\")\n",
    "else:\n",
    "    if norm_v0==v1==1:\n",
    "        print(\"The length of given two vectors are 1 but dot product is not zero so, not orthgonal hence not orthogonal\")\n",
    "    else:\n",
    "        print(\"The length of the vector in vectors are not 1 and also dot product is not zero so, not orthgonal hence not orthogonal\")\n",
    "\n",
    "        "
   ]
  },
  {
   "cell_type": "code",
   "execution_count": 8,
   "id": "aedb995f-b467-4c32-905c-db1c555c330e",
   "metadata": {},
   "outputs": [
    {
     "name": "stdout",
     "output_type": "stream",
     "text": [
      "The set of vectors is orthogonal set.\n"
     ]
    }
   ],
   "source": [
    "import numpy as np\n",
    "\n",
    "def is_orthogonalset(vectors):\n",
    "    vectors = np.array(vectors)\n",
    "    for i in range(len(vectors)):\n",
    "        for j in range(i+1, len(vectors)):\n",
    "            dot_product = np.dot(vectors[i], vectors[j])\n",
    "            if not np.isclose(dot_product, 0):\n",
    "                return false\n",
    "    return true \n",
    "vectors = [\n",
    "    [1,0,0],\n",
    "    [0,1,0],\n",
    "    [0,0,1]\n",
    "]\n",
    "if is_orthogonalset(vectors):\n",
    "    print(\"The set of vectors is orthogonal set.\")\n",
    "else:\n",
    "    print(\"The set of vectors is not orthogonal set.\")"
   ]
  },
  {
   "cell_type": "code",
   "execution_count": 13,
   "id": "f8838717-612f-4c5e-af61-f4cf00c9158b",
   "metadata": {},
   "outputs": [
    {
     "name": "stdout",
     "output_type": "stream",
     "text": [
      "The set of vectors is orthonormal set.\n"
     ]
    }
   ],
   "source": [
    "import numpy as np\n",
    "\n",
    "def is_orthonormal_set(vectors):\n",
    "    vectors = np.array(vectors)\n",
    "    for i in range(len(vectors)):\n",
    "        for j in range(i+1, len(vectors)):\n",
    "            dot_product = np.dot(vectors[i], vectors[j])\n",
    "            norm_vi=np.linalg.norm(vectors[i])\n",
    "            norm_vj=np.linalg.norm(vectors[j])\n",
    "            if dot_product !=0 or norm_vi!=1 or norm_vj!=1:\n",
    "                return false\n",
    "    return true \n",
    "vectors = [\n",
    "    [1,0,0],\n",
    "    [0,1,0],\n",
    "    [0,0,1]\n",
    "]\n",
    "if is_orthonormal_set(vectors):\n",
    "    print(\"The set of vectors is orthonormal set.\")\n",
    "else:\n",
    "    print(\"The set of vectors is not orthonormal set.\")"
   ]
  },
  {
   "cell_type": "code",
   "execution_count": 19,
   "id": "d3a1450f-ccc9-4134-80b3-6fc5bf79fa80",
   "metadata": {},
   "outputs": [
    {
     "name": "stdout",
     "output_type": "stream",
     "text": [
      "The set of vectors is orthonormal set but not orthonormal set.\n"
     ]
    }
   ],
   "source": [
    "import numpy as np\n",
    "\n",
    "def is_orthonormalset(vectors):\n",
    "    vectors = np.array(vectors)\n",
    "    orthogonalset=is_orthogonalset(vectors)\n",
    "    if orthogonalset==True:\n",
    "        count=0\n",
    "    for i in range(len(vectors)):\n",
    "        norm_vi=np.linalg.norm(vectors[i])\n",
    "\n",
    "        if (norm_vi==1):\n",
    "            count=count+1\n",
    "        else:\n",
    "            return False\n",
    "    return count\n",
    "      \n",
    "vectors = [\n",
    "    [1,0,0],\n",
    "    [0,1,0],\n",
    "    [0,0,1]\n",
    "]\n",
    "if is_orthogonalset(vectors):\n",
    "    if is_orthonormal_set(vectors)==len(vectors):\n",
    "        print(\"The set of vectors is orthogonal and orthonormal set.\")\n",
    "    else:\n",
    "        print(\"The set of vectors is orthonormal set but not orthonormal set.\")\n",
    "else:\n",
    "    print(\"The set of vectors neither orthonormal set nor orthonormal set.\")\n"
   ]
  },
  {
   "cell_type": "code",
   "execution_count": 22,
   "id": "00c4606b-c776-4f40-a8de-2f26084d1acf",
   "metadata": {},
   "outputs": [
    {
     "name": "stdout",
     "output_type": "stream",
     "text": [
      "The set of vectors is orthonormal set but not orthonormal set.\n"
     ]
    }
   ],
   "source": [
    "import numpy as np\n",
    "\n",
    "def is_orthonormalset(vectors):\n",
    "    vectors = np.array(vectors)\n",
    "    orthogonalset=is_orthogonalset(vectors)\n",
    "    if orthogonalset==True:\n",
    "        for i in range(len(vectors)):\n",
    "            norm_vi=np.linalg.norm(vectors[i])\n",
    "            if (norm_vi==1):\n",
    "                return False\n",
    "    return True\n",
    "      \n",
    "vectors = [\n",
    "    [1,0,0],\n",
    "    [0,1,0],\n",
    "    [0,0,1]\n",
    "]\n",
    "if is_orthogonalset(vectors):\n",
    "    if is_orthonormal_set(vectors)==len(vectors):\n",
    "        print(\"The set of vectors is orthogonal and orthonormal set.\")\n",
    "    else:\n",
    "        print(\"The set of vectors is orthonormal set but not orthonormal set.\")\n",
    "else:\n",
    "    print(\"The set of vectors neither orthonormal set nor orthonormal set.\")\n"
   ]
  },
  {
   "cell_type": "code",
   "execution_count": 23,
   "id": "676ab12d-a5cc-4d57-8693-9c8a7b561970",
   "metadata": {},
   "outputs": [
    {
     "name": "stdout",
     "output_type": "stream",
     "text": [
      "The followings are the vector set[[1, 0, 0], [0, 1, 0], [0, 0, 0]]\n",
      "The set is linear independent\n"
     ]
    },
    {
     "data": {
      "text/plain": [
       "'and it spans the vector space V. Hence it forms orthoganal basis for vector space'"
      ]
     },
     "execution_count": 23,
     "metadata": {},
     "output_type": "execute_result"
    }
   ],
   "source": [
    "import numpy as np\n",
    "def IsOrthogonalBasis(vectors):\n",
    "    if is_orthogonalset(vectors):\n",
    "        print(\"The set is linear independent\")\n",
    "        if len(vectors)==len(vectors[0]):\n",
    "            x=\"and it spans the vector space V. Hence it forms orthoganal basis for vector space\"\n",
    "        else:\n",
    "            x=\"and it spans the subspace W of vector space V. Hence it forms orthoganal basis subspace\"\n",
    "    else:\n",
    "        x=\"The set is not orthogonal basis\"\n",
    "    return x\n",
    "vectors = [\n",
    "    [1,0,0],\n",
    "    [0,1,0],\n",
    "    [0,0,0]\n",
    "]\n",
    "print(f\"The followings are the vector set{vectors}\")   \n",
    "IsOrthogonalBasis(vectors)\n",
    "            "
   ]
  },
  {
   "cell_type": "code",
   "execution_count": 24,
   "id": "92ea77e1-5100-4553-927b-64a55bc469b2",
   "metadata": {},
   "outputs": [
    {
     "name": "stdout",
     "output_type": "stream",
     "text": [
      "The followings are the vector set[[1, 0, 0], [0, 1, 0], [0, 0, 0]]\n"
     ]
    },
    {
     "data": {
      "text/plain": [
       "'The set is not orthonormal basis'"
      ]
     },
     "execution_count": 24,
     "metadata": {},
     "output_type": "execute_result"
    }
   ],
   "source": [
    "import numpy as np\n",
    "def IsOrthonormalBasis(vectors):\n",
    "    if is_orthonormalset(vectors):\n",
    "        print(\"The set is linear independent\")\n",
    "        if len(vectors)==len(vectors[0]):\n",
    "            x=\"and it spans the vector space V. Hence it forms orthonormal basis for vector space\"\n",
    "        else:\n",
    "            x=\"and it spans the subspace W of vector space V. Hence it forms orthonormal basis subspace\"\n",
    "    else:\n",
    "        x=\"The set is not orthonormal basis\"\n",
    "    return x\n",
    "vectors = [\n",
    "    [1,0,0],\n",
    "    [0,1,0],\n",
    "    [0,0,0]\n",
    "]\n",
    "print(f\"The followings are the vector set{vectors}\")   \n",
    "IsOrthonormalBasis(vectors)\n",
    "            "
   ]
  },
  {
   "cell_type": "code",
   "execution_count": 27,
   "id": "153a4fe6-4195-4e8a-9f5f-682220b39b62",
   "metadata": {},
   "outputs": [
    {
     "name": "stdout",
     "output_type": "stream",
     "text": [
      "The set of vectors is not orthogonal complement.\n"
     ]
    }
   ],
   "source": [
    "import numpy as np\n",
    "def Is_OrthogonalCompliment(vectors1,vectors2):\n",
    "    vectors1 = np.array(vectors1)\n",
    "    vectors2 = np.array(vectors2)\n",
    "    for i in range(len(vectors1)):\n",
    "        for j in range(len(vectors2)): \n",
    "            dot_product = np.dot(vectors1[i],vectors2[j])\n",
    "            if not np.isclose(dot_product, 0):\n",
    "                return False\n",
    "    return True\n",
    "vectors1 = [\n",
    "    [1,0,0],\n",
    "    [0,1,0],\n",
    "    [0,0,1]\n",
    "]\n",
    "vectors2 = [\n",
    "    [0,1,0],\n",
    "    [0,0,1]\n",
    "]\n",
    "if Is_OrthogonalCompliment(vectors1,vectors2):\n",
    "    print(\"The set of vectors is orthogonal complement.\")\n",
    "else:\n",
    "    print(\"The set of vectors is not orthogonal complement.\")\n",
    "\n"
   ]
  },
  {
   "cell_type": "code",
   "execution_count": 28,
   "id": "cc83aaef-3674-4e8e-922e-45fbb8ceae84",
   "metadata": {},
   "outputs": [
    {
     "name": "stdout",
     "output_type": "stream",
     "text": [
      "The vectors u is [1, 2, 3]\n",
      "The given vectors y is [1, 2, 3]\n",
      "The projection of y on a set of vectors is [1. 2. 3.] \n"
     ]
    }
   ],
   "source": [
    "import numpy as np\n",
    "def proj(y,u):\n",
    "    y=np.array(y)\n",
    "    u=np.array(u)\n",
    "    proj_y=(np.dot(y,u)/np.dot(u,u))*u\n",
    "    return proj_y\n",
    "u=[1,2,3]\n",
    "print(f\"The vectors u is {u}\")\n",
    "y=[1,2,3]\n",
    "print(f\"The given vectors y is {y}\")\n",
    "print(f\"The projection of y on a set of vectors is {proj(y,u)} \")"
   ]
  },
  {
   "cell_type": "code",
   "execution_count": null,
   "id": "cfca48a5-183d-4e12-8a80-ea3781115fe9",
   "metadata": {},
   "outputs": [],
   "source": []
  }
 ],
 "metadata": {
  "kernelspec": {
   "display_name": "Python 3 (ipykernel)",
   "language": "python",
   "name": "python3"
  },
  "language_info": {
   "codemirror_mode": {
    "name": "ipython",
    "version": 3
   },
   "file_extension": ".py",
   "mimetype": "text/x-python",
   "name": "python",
   "nbconvert_exporter": "python",
   "pygments_lexer": "ipython3",
   "version": "3.11.7"
  }
 },
 "nbformat": 4,
 "nbformat_minor": 5
}
